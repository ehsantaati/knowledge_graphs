{
 "cells": [
  {
   "cell_type": "markdown",
   "metadata": {},
   "source": [
    "# Leverage KeyBERT, HDBSCAN and Zephyr-7B-Beta to Build a Knowledge Graph\n",
    "https://towardsdatascience.com/leverage-keybert-hdbscan-and-zephyr-7b-beta-to-build-a-knowledge-graph-33d7534ee01b"
   ]
  },
  {
   "cell_type": "code",
   "execution_count": null,
   "metadata": {},
   "outputs": [],
   "source": [
    "# !pip install llama-index Ipython langchain keybert\n",
    "# !CMAKE_ARGS=\"-DLLAMA_CUBLAS=on\" FORCE_CMAKE=1 pip install llama-cpp-python"
   ]
  },
  {
   "cell_type": "code",
   "execution_count": null,
   "metadata": {},
   "outputs": [],
   "source": [
    "import sys\n",
    "sys.path.append(\"utils\")\n",
    "from utils.arxiv_parser import *\n",
    "from utils.llm_utils import *\n",
    "import textwrap"
   ]
  },
  {
   "cell_type": "code",
   "execution_count": null,
   "metadata": {},
   "outputs": [],
   "source": [
    "DATA_DIR = \"data/\"\n",
    "llm_path = \"../../LLMs/text-generation-webui/models/zephyr-7b-beta.Q5_K_M.gguf\""
   ]
  },
  {
   "cell_type": "code",
   "execution_count": null,
   "metadata": {},
   "outputs": [],
   "source": [
    "# Initialize the data parser\n",
    "parser = ArXivDataProcessor(DATA_DIR)\n",
    "\n",
    "# Unzip the downloaded file to extract a json file in data_path\n",
    "parser.unzip_file()\n",
    "\n",
    "# Select a topic and extract the articles on that topic\n",
    "topic = 'cs'\n",
    "entries = parser.select_topic('cs')\n",
    "\n",
    "# Build a pandas dataframe with specified selections\n",
    "df = parser.select_articles(\n",
    "  entries,  # extracted articles\n",
    "  cols=['id', 'title', 'abstract'],  # features to keep\n",
    "  min_length=100,  # min tokens an abstract should have\n",
    "  max_length=120,  # max tokens an abstract should have\n",
    "  keep_abs_length=False,  # do not keep the abs_length column\n",
    "  build_corpus=False)  # do not build a corpus column\n",
    "\n",
    "# Save the selected data to a csv file 'selected_{topic}.csv', uses data_path\n",
    "parser.save_selected_data(df, topic)"
   ]
  },
  {
   "cell_type": "code",
   "execution_count": null,
   "metadata": {},
   "outputs": [],
   "source": [
    "llm = load_llamacpp_llm(llm_path)"
   ]
  },
  {
   "cell_type": "code",
   "execution_count": null,
   "metadata": {},
   "outputs": [],
   "source": [
    "prompt = \"Tell me a joke about AI\"\n",
    "prompt_template=f'''<|system|>\n",
    "</s>\n",
    "<|user|>\n",
    "{prompt}</s>\n",
    "<|assistant|>\n",
    "'''"
   ]
  },
  {
   "cell_type": "code",
   "execution_count": null,
   "metadata": {},
   "outputs": [],
   "source": [
    "response = llm.invoke(prompt)\n",
    "print(response)"
   ]
  },
  {
   "cell_type": "code",
   "execution_count": null,
   "metadata": {},
   "outputs": [],
   "source": []
  },
  {
   "cell_type": "code",
   "execution_count": null,
   "metadata": {},
   "outputs": [],
   "source": []
  }
 ],
 "metadata": {
  "kernelspec": {
   "display_name": "nlp_toolbox_py310",
   "language": "python",
   "name": "python3"
  },
  "language_info": {
   "codemirror_mode": {
    "name": "ipython",
    "version": 3
   },
   "file_extension": ".py",
   "mimetype": "text/x-python",
   "name": "python",
   "nbconvert_exporter": "python",
   "pygments_lexer": "ipython3",
   "version": "3.10.13"
  }
 },
 "nbformat": 4,
 "nbformat_minor": 2
}
